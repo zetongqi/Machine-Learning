{
 "cells": [
  {
   "cell_type": "code",
   "execution_count": 35,
   "metadata": {},
   "outputs": [],
   "source": [
    "from arff_parser import *\n",
    "import numpy as np\n",
    "import sys\n",
    "import math"
   ]
  },
  {
   "cell_type": "code",
   "execution_count": 36,
   "metadata": {},
   "outputs": [],
   "source": [
    "class question:\n",
    "    def __init__(self, feature, threshold, nominal, arffdata):\n",
    "        #feature is the column number in the data set, nominal=1: feature is nominal\n",
    "        self.feature = arffdata.attributes[feature].name\n",
    "        self.threshold = threshold\n",
    "        self.nominal = nominal\n",
    "        \n",
    "    def __repr__(self):\n",
    "        if self.nominal == 1:\n",
    "            return \"%s == %s ?\" % (self.feature, self.threshold)\n",
    "        if self.nominal == 0:\n",
    "            return \"%s > %s ?\" % (self.feature, self.threshold)"
   ]
  },
  {
   "cell_type": "code",
   "execution_count": 37,
   "metadata": {},
   "outputs": [
    {
     "data": {
      "text/plain": [
       "['b', 'a']"
      ]
     },
     "execution_count": 37,
     "metadata": {},
     "output_type": "execute_result"
    }
   ],
   "source": [
    "a = arff_data(\"credit_train.arff\")\n",
    "b = a.all_attributes\n",
    "b[0].attribute_list"
   ]
  },
  {
   "cell_type": "code",
   "execution_count": 38,
   "metadata": {},
   "outputs": [],
   "source": [
    "# for continuous features(nominal=0), instance refer to the threshold\n",
    "def count_occurrences(instance, array, nominal):\n",
    "    occurrences = 0\n",
    "    #if it's nominal\n",
    "    if nominal == 1:\n",
    "        for i in array:\n",
    "            if i == instance:\n",
    "                occurrences += 1\n",
    "        return occurrences\n",
    "    #if it's real\n",
    "    if nominal == 0:\n",
    "        for i in array:\n",
    "            if i > instance:\n",
    "                occurrences += 1\n",
    "        return occurrences"
   ]
  },
  {
   "cell_type": "code",
   "execution_count": 39,
   "metadata": {},
   "outputs": [
    {
     "data": {
      "text/plain": [
       "45"
      ]
     },
     "execution_count": 39,
     "metadata": {},
     "output_type": "execute_result"
    }
   ],
   "source": [
    "count_occurrences(40, a.get_feature_data(1), 0)"
   ]
  },
  {
   "cell_type": "code",
   "execution_count": 40,
   "metadata": {},
   "outputs": [],
   "source": [
    "def entropy(p):\n",
    "    return -p*math.log2(p)"
   ]
  },
  {
   "cell_type": "code",
   "execution_count": 41,
   "metadata": {},
   "outputs": [
    {
     "data": {
      "text/plain": [
       "0.46438561897747244"
      ]
     },
     "execution_count": 41,
     "metadata": {},
     "output_type": "execute_result"
    }
   ],
   "source": [
    "entropy(0.2)"
   ]
  },
  {
   "cell_type": "code",
   "execution_count": 42,
   "metadata": {},
   "outputs": [],
   "source": [
    "#inputs: class arff_data, feature_num(including the label), and threshold(only for real features)\n",
    "def cumulative_entropy(arffdata, feature_num, threshold):\n",
    "    feature = arffdata.all_attributes[feature_num]\n",
    "    feature_data = arffdata.get_feature_data(feature_num)\n",
    "    feature_value_list = feature.attribute_list\n",
    "    \n",
    "    if feature.type == \"real\":\n",
    "        occurrences = count_occurrences(threshold, feature_data, 0)\n",
    "        p = occurrences/len(feature_data)\n",
    "        print(p)\n",
    "        entropy = -p*math.log2(p)-(1-p)*math.log2(1-p)\n",
    "        return entropy\n",
    "    \n",
    "    entropy = 0\n",
    "    if feature.type == \"nominal\":\n",
    "        for i in feature_value_list:\n",
    "            p = count_occurrences(i, feature_data, 1)/len(feature_data)\n",
    "            print(i, p)\n",
    "            if p == 0:\n",
    "                continue\n",
    "            entropy += -p*math.log2(p)\n",
    "        return entropy"
   ]
  },
  {
   "cell_type": "code",
   "execution_count": 43,
   "metadata": {},
   "outputs": [
    {
     "name": "stdout",
     "output_type": "stream",
     "text": [
      "+ 0.2874015748031496\n",
      "- 0.7125984251968503\n"
     ]
    },
    {
     "data": {
      "text/plain": [
       "0.8653409924402706"
      ]
     },
     "execution_count": 43,
     "metadata": {},
     "output_type": "execute_result"
    }
   ],
   "source": [
    "cumulative_entropy(a, 8, 0)"
   ]
  },
  {
   "cell_type": "code",
   "execution_count": 96,
   "metadata": {},
   "outputs": [],
   "source": [
    "#given the arff data and feature number, return a list of candidate splits\n",
    "def determine_candidate_split(arffdata, feature_num):\n",
    "    feature_value_list = arffdata.get_feature_data(feature_num)\n",
    "    \n",
    "    if arffdata.all_attributes[feature_num].type == \"real\":\n",
    "        feature_value_list = sorted(feature_value_list)\n",
    "        candidates = []\n",
    "        for i in range(len(feature_value_list)-1):        \n",
    "            candidates.append((feature_value_list[i]+feature_value_list[i+1])/2)\n",
    "        return (list(set(candidates)))\n",
    "    \n",
    "    if arffdata.all_attributes[feature_num].type == \"nominal\":\n",
    "        candidates = arffdata.all_attributes[feature_num].attribute_list\n",
    "        return candidates"
   ]
  },
  {
   "cell_type": "code",
   "execution_count": 103,
   "metadata": {
    "scrolled": true
   },
   "outputs": [
    {
     "data": {
      "text/plain": [
       "['+', '-']"
      ]
     },
     "execution_count": 103,
     "metadata": {},
     "output_type": "execute_result"
    }
   ],
   "source": [
    "determine_candidate_split(a, 8)"
   ]
  },
  {
   "cell_type": "code",
   "execution_count": null,
   "metadata": {},
   "outputs": [],
   "source": []
  }
 ],
 "metadata": {
  "kernelspec": {
   "display_name": "Python 3",
   "language": "python",
   "name": "python3"
  },
  "language_info": {
   "codemirror_mode": {
    "name": "ipython",
    "version": 3
   },
   "file_extension": ".py",
   "mimetype": "text/x-python",
   "name": "python",
   "nbconvert_exporter": "python",
   "pygments_lexer": "ipython3",
   "version": "3.6.2"
  }
 },
 "nbformat": 4,
 "nbformat_minor": 2
}
