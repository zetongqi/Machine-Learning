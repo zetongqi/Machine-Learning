{
 "cells": [
  {
   "cell_type": "code",
   "execution_count": 35,
   "metadata": {},
   "outputs": [],
   "source": [
    "from arff_parser import *\n",
    "import numpy as np\n",
    "import sys\n",
    "import math"
   ]
  },
  {
   "cell_type": "code",
   "execution_count": 36,
   "metadata": {},
   "outputs": [],
   "source": [
    "class question:\n",
    "    def __init__(self, feature, threshold, nominal, arffdata):\n",
    "        #feature is the column number in the data set, nominal=1: feature is nominal\n",
    "        self.feature = arffdata.attributes[feature].name\n",
    "        self.threshold = threshold\n",
    "        self.nominal = nominal\n",
    "        \n",
    "    def __repr__(self):\n",
    "        if self.nominal == 1:\n",
    "            return \"%s == %s ?\" % (self.feature, self.threshold)\n",
    "        if self.nominal == 0:\n",
    "            return \"%s > %s ?\" % (self.feature, self.threshold)"
   ]
  },
  {
   "cell_type": "code",
   "execution_count": 37,
   "metadata": {},
   "outputs": [
    {
     "data": {
      "text/plain": [
       "['b', 'a']"
      ]
     },
     "execution_count": 37,
     "metadata": {},
     "output_type": "execute_result"
    }
   ],
   "source": [
    "a = arff_data(\"credit_train.arff\")\n",
    "b = a.all_attributes\n",
    "b[0].attribute_list"
   ]
  },
  {
   "cell_type": "code",
   "execution_count": 38,
   "metadata": {},
   "outputs": [],
   "source": [
    "# for continuous features(nominal=0), instance refer to the threshold\n",
    "def count_occurrences(instance, array, nominal):\n",
    "    occurrences = 0\n",
    "    #if it's nominal\n",
    "    if nominal == 1:\n",
    "        for i in array:\n",
    "            if i == instance:\n",
    "                occurrences += 1\n",
    "        return occurrences\n",
    "    #if it's real\n",
    "    if nominal == 0:\n",
    "        for i in array:\n",
    "            if i > instance:\n",
    "                occurrences += 1\n",
    "        return occurrences"
   ]
  },
  {
   "cell_type": "code",
   "execution_count": 39,
   "metadata": {},
   "outputs": [
    {
     "data": {
      "text/plain": [
       "45"
      ]
     },
     "execution_count": 39,
     "metadata": {},
     "output_type": "execute_result"
    }
   ],
   "source": [
    "count_occurrences(40, a.get_feature_data(1), 0)"
   ]
  },
  {
   "cell_type": "code",
   "execution_count": 105,
   "metadata": {},
   "outputs": [],
   "source": [
    "def get_feature_data(column_num, data):\n",
    "    column = []\n",
    "    for row in data:\n",
    "        column.append(row[column_num])\n",
    "    return column"
   ]
  },
  {
   "cell_type": "code",
   "execution_count": 40,
   "metadata": {},
   "outputs": [],
   "source": [
    "def entropy(p):\n",
    "    return -p*math.log2(p)"
   ]
  },
  {
   "cell_type": "code",
   "execution_count": 41,
   "metadata": {},
   "outputs": [
    {
     "data": {
      "text/plain": [
       "0.46438561897747244"
      ]
     },
     "execution_count": 41,
     "metadata": {},
     "output_type": "execute_result"
    }
   ],
   "source": [
    "entropy(0.2)"
   ]
  },
  {
   "cell_type": "code",
   "execution_count": 111,
   "metadata": {},
   "outputs": [],
   "source": [
    "#inputs: class arff_data, feature_num(including the label), and threshold(only for real features)\n",
    "#arffdata carries feature information\n",
    "def cumulative_entropy(arffdata, data, feature_num, threshold):\n",
    "    feature = arffdata.all_attributes[feature_num]\n",
    "    feature_data = get_feature_data(feature_num, data)\n",
    "    feature_value_list = feature.attribute_list\n",
    "    \n",
    "    if feature.type == \"real\":\n",
    "        occurrences = count_occurrences(threshold, feature_data, 0)\n",
    "        p = occurrences/len(feature_data)\n",
    "        print(p)\n",
    "        entropy = -p*math.log2(p)-(1-p)*math.log2(1-p)\n",
    "        return entropy\n",
    "    \n",
    "    entropy = 0\n",
    "    if feature.type == \"nominal\":\n",
    "        for i in feature_value_list:\n",
    "            p = count_occurrences(i, feature_data, 1)/len(feature_data)\n",
    "            print(i, p)\n",
    "            if p == 0:\n",
    "                continue\n",
    "            entropy += -p*math.log2(p)\n",
    "        return entropy"
   ]
  },
  {
   "cell_type": "code",
   "execution_count": 112,
   "metadata": {},
   "outputs": [
    {
     "name": "stdout",
     "output_type": "stream",
     "text": [
      "+ 0.2874015748031496\n",
      "- 0.7125984251968503\n"
     ]
    },
    {
     "data": {
      "text/plain": [
       "0.8653409924402706"
      ]
     },
     "execution_count": 112,
     "metadata": {},
     "output_type": "execute_result"
    }
   ],
   "source": [
    "cumulative_entropy(a, a.data, 8, 0)"
   ]
  },
  {
   "cell_type": "code",
   "execution_count": 117,
   "metadata": {},
   "outputs": [],
   "source": [
    "#given the arff data and feature number, return a list of candidate splits\n",
    "def determine_candidate_split(arffdata, data, feature_num):\n",
    "    feature_value_list = get_feature_data(feature_num, data)\n",
    "    \n",
    "    if arffdata.all_attributes[feature_num].type == \"real\":\n",
    "        feature_value_list = sorted(feature_value_list)\n",
    "        candidates = []\n",
    "        for i in range(len(feature_value_list)-1):        \n",
    "            candidates.append((feature_value_list[i]+feature_value_list[i+1])/2)\n",
    "        return (list(set(candidates)))\n",
    "    \n",
    "    if arffdata.all_attributes[feature_num].type == \"nominal\":\n",
    "        candidates = arffdata.all_attributes[feature_num].attribute_list\n",
    "        return candidates"
   ]
  },
  {
   "cell_type": "code",
   "execution_count": 121,
   "metadata": {
    "scrolled": true
   },
   "outputs": [
    {
     "data": {
      "text/plain": [
       "[27.67,\n",
       " 15.96,\n",
       " 16.0,\n",
       " 17.915,\n",
       " 17.67,\n",
       " 19.58,\n",
       " 17.625,\n",
       " 17.75,\n",
       " 22.71,\n",
       " 23.335,\n",
       " 22.835,\n",
       " 22.67,\n",
       " 22.92,\n",
       " 22.96,\n",
       " 19.0,\n",
       " 20.0,\n",
       " 21.0,\n",
       " 22.08,\n",
       " 23.0,\n",
       " 18.29,\n",
       " 25.0,\n",
       " 26.045,\n",
       " 27.045,\n",
       " 28.125,\n",
       " 29.17,\n",
       " 30.0,\n",
       " 31.125,\n",
       " 32.165,\n",
       " 33.04,\n",
       " 34.0,\n",
       " 35.085,\n",
       " 36.25,\n",
       " 37.125,\n",
       " 38.21,\n",
       " 39.0,\n",
       " 19.54,\n",
       " 41.17,\n",
       " 42.375,\n",
       " 43.0,\n",
       " 44.085,\n",
       " 45.0,\n",
       " 46.165,\n",
       " 47.375,\n",
       " 48.17,\n",
       " 49.625,\n",
       " 18.415,\n",
       " 18.54,\n",
       " 52.045,\n",
       " 53.625,\n",
       " 54.92,\n",
       " 26.71,\n",
       " 56.375,\n",
       " 57.205,\n",
       " 58.0,\n",
       " 59.125,\n",
       " 23.75,\n",
       " 61.415,\n",
       " 63.04,\n",
       " 64.375,\n",
       " 67.295,\n",
       " 69.33500000000001,\n",
       " 17.58,\n",
       " 16.04,\n",
       " 16.165,\n",
       " 16.25,\n",
       " 16.29,\n",
       " 16.33,\n",
       " 17.0,\n",
       " 16.415,\n",
       " 16.5,\n",
       " 16.71,\n",
       " 17.08,\n",
       " 18.04,\n",
       " 18.875,\n",
       " 17.165,\n",
       " 17.375,\n",
       " 17.54,\n",
       " 19.835,\n",
       " 19.67,\n",
       " 18.08,\n",
       " 18.125,\n",
       " 18.17,\n",
       " 20.71,\n",
       " 20.67,\n",
       " 20.79,\n",
       " 18.58,\n",
       " 18.705,\n",
       " 21.79,\n",
       " 21.83,\n",
       " 21.955,\n",
       " 21.585,\n",
       " 18.83,\n",
       " 22.375,\n",
       " 22.5,\n",
       " 22.625,\n",
       " 22.58,\n",
       " 21.17,\n",
       " 23.25,\n",
       " 22.125,\n",
       " 22.17,\n",
       " 22.21,\n",
       " 22.25,\n",
       " 23.04,\n",
       " 23.08,\n",
       " 23.125,\n",
       " 22.54,\n",
       " 23.21,\n",
       " 24.0,\n",
       " 24.205,\n",
       " 24.33,\n",
       " 24.375,\n",
       " 24.46,\n",
       " 25.17,\n",
       " 25.21,\n",
       " 25.25,\n",
       " 25.335,\n",
       " 25.67,\n",
       " 26.17,\n",
       " 26.21,\n",
       " 26.29,\n",
       " 26.455,\n",
       " 26.625,\n",
       " 27.25,\n",
       " 27.375,\n",
       " 27.5,\n",
       " 26.875,\n",
       " 27.625,\n",
       " 28.29,\n",
       " 28.5,\n",
       " 28.67,\n",
       " 23.54,\n",
       " 28.795,\n",
       " 29.46,\n",
       " 29.5,\n",
       " 29.585,\n",
       " 29.75,\n",
       " 30.21,\n",
       " 30.415,\n",
       " 30.625,\n",
       " 30.71,\n",
       " 30.875,\n",
       " 31.25,\n",
       " 31.5,\n",
       " 31.835,\n",
       " 31.96,\n",
       " 32.375,\n",
       " 32.585,\n",
       " 32.835,\n",
       " 32.96,\n",
       " 33.08,\n",
       " 33.125,\n",
       " 33.17,\n",
       " 33.21,\n",
       " 33.25,\n",
       " 33.375,\n",
       " 24.54,\n",
       " 24.665,\n",
       " 24.79,\n",
       " 34.04,\n",
       " 34.25,\n",
       " 21.33,\n",
       " 34.46,\n",
       " 34.625,\n",
       " 35.295,\n",
       " 35.585,\n",
       " 35.96,\n",
       " 36.415,\n",
       " 36.585,\n",
       " 36.71,\n",
       " 36.75,\n",
       " 37.625,\n",
       " 37.96,\n",
       " 38.335,\n",
       " 38.67,\n",
       " 39.205,\n",
       " 39.375,\n",
       " 39.46,\n",
       " 39.5,\n",
       " 39.54,\n",
       " 39.75,\n",
       " 39.96,\n",
       " 40.125,\n",
       " 40.415,\n",
       " 40.58,\n",
       " 40.875,\n",
       " 41.25,\n",
       " 41.375,\n",
       " 41.585,\n",
       " 41.875,\n",
       " 42.79,\n",
       " 42.83,\n",
       " 26.79,\n",
       " 23.58,\n",
       " 47.795,\n",
       " 48.21,\n",
       " 48.415,\n",
       " 33.71,\n",
       " 48.665,\n",
       " 48.96,\n",
       " 27.79,\n",
       " 27.915,\n",
       " 50.415,\n",
       " 51.29,\n",
       " 51.875,\n",
       " 52.295,\n",
       " 52.875,\n",
       " 58.5,\n",
       " 59.875,\n",
       " 19.17,\n",
       " 33.625,\n",
       " 33.875,\n",
       " 20.42,\n",
       " 18.21,\n",
       " 18.96,\n",
       " 19.085,\n",
       " 19.335,\n",
       " 33.54,\n",
       " 20.21,\n",
       " 20.46,\n",
       " 20.585,\n",
       " 34.79,\n",
       " 34.915,\n",
       " 33.67,\n",
       " 21.29,\n",
       " 21.21,\n",
       " 18.25,\n",
       " 15.545,\n",
       " 24.75,\n",
       " 19.625,\n",
       " 21.375,\n",
       " 33.58,\n",
       " 26.67,\n",
       " 23.46,\n",
       " 20.75,\n",
       " 27.71,\n",
       " 34.83]"
      ]
     },
     "execution_count": 121,
     "metadata": {},
     "output_type": "execute_result"
    }
   ],
   "source": [
    "determine_candidate_split(a, a.data, )"
   ]
  },
  {
   "cell_type": "code",
   "execution_count": null,
   "metadata": {},
   "outputs": [],
   "source": [
    "def split_data()"
   ]
  }
 ],
 "metadata": {
  "kernelspec": {
   "display_name": "Python 3",
   "language": "python",
   "name": "python3"
  },
  "language_info": {
   "codemirror_mode": {
    "name": "ipython",
    "version": 3
   },
   "file_extension": ".py",
   "mimetype": "text/x-python",
   "name": "python",
   "nbconvert_exporter": "python",
   "pygments_lexer": "ipython3",
   "version": "3.6.2"
  }
 },
 "nbformat": 4,
 "nbformat_minor": 2
}
