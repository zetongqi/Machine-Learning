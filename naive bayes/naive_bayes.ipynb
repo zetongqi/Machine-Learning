{
 "cells": [
  {
   "cell_type": "code",
   "execution_count": 21,
   "metadata": {},
   "outputs": [],
   "source": [
    "import arff_parser"
   ]
  },
  {
   "cell_type": "code",
   "execution_count": 26,
   "metadata": {},
   "outputs": [],
   "source": [
    "def count_feature(feature_list, feature_col_num, data):\n",
    "    counts = [0] * len(feature_list)\n",
    "    for row in data:\n",
    "        for i in range(len(feature_list)):\n",
    "            if row[feature_col_num] == feature_list[i]:\n",
    "                counts[i] += 1\n",
    "    return counts"
   ]
  },
  {
   "cell_type": "code",
   "execution_count": 27,
   "metadata": {},
   "outputs": [
    {
     "data": {
      "text/plain": [
       "[57, 43]"
      ]
     },
     "execution_count": 27,
     "metadata": {},
     "output_type": "execute_result"
    }
   ],
   "source": [
    "a = arff_data(\"lymph_train.arff\")\n",
    "count_feature(a.all_attributes[-1].attribute_list, -1, a.data)"
   ]
  },
  {
   "cell_type": "code",
   "execution_count": 40,
   "metadata": {},
   "outputs": [
    {
     "data": {
      "text/plain": [
       "['metastases', 'malign_lymph']"
      ]
     },
     "execution_count": 40,
     "metadata": {},
     "output_type": "execute_result"
    }
   ],
   "source": [
    "a.all_attributes[-1].attribute_list"
   ]
  },
  {
   "cell_type": "code",
   "execution_count": 37,
   "metadata": {},
   "outputs": [],
   "source": [
    "#return feature_counts with the corresponding order as feature2_list, and then feature1_list\n",
    "def count_two_features(feature1_list, feature1_col_num, feature2_list, feature2_col_num, data):\n",
    "    feature_counts = []\n",
    "    for i in range(len(feature2_list)):\n",
    "        count_list = [0] * len(feature1_list)\n",
    "        for row in data:\n",
    "            for j in range(len(feature1_list)):\n",
    "                if row[feature1_col_num] == feature1_list[j] and row[feature2_col_num] == feature2_list[i]:\n",
    "                    count_list[j] += 1\n",
    "        feature_counts.append(count_list)\n",
    "    return feature_counts"
   ]
  },
  {
   "cell_type": "code",
   "execution_count": 36,
   "metadata": {},
   "outputs": [
    {
     "data": {
      "text/plain": [
       "[[0, 26, 19, 12], [0, 22, 10, 11]]"
      ]
     },
     "execution_count": 36,
     "metadata": {},
     "output_type": "execute_result"
    }
   ],
   "source": [
    "count_two_features(a.all_attributes[0].attribute_list, 0, a.all_attributes[-1].attribute_list, -1, a.data)"
   ]
  },
  {
   "cell_type": "code",
   "execution_count": 38,
   "metadata": {},
   "outputs": [
    {
     "data": {
      "text/plain": [
       "['metastases', 'malign_lymph']"
      ]
     },
     "execution_count": 38,
     "metadata": {},
     "output_type": "execute_result"
    }
   ],
   "source": [
    "a.all_attributes[-1].attribute_list"
   ]
  },
  {
   "cell_type": "code",
   "execution_count": 39,
   "metadata": {},
   "outputs": [
    {
     "data": {
      "text/plain": [
       "['normal', 'arched', 'deformed', 'displaced']"
      ]
     },
     "execution_count": 39,
     "metadata": {},
     "output_type": "execute_result"
    }
   ],
   "source": [
    "a.all_attributes[0].attribute_list"
   ]
  },
  {
   "cell_type": "code",
   "execution_count": 49,
   "metadata": {},
   "outputs": [],
   "source": [
    "def calculate_prior(label_feature_list, data):\n",
    "    counts =  count_feature(label_feature_list, -1, data)\n",
    "    for i in range(len(counts)):\n",
    "        # Laplace estimates\n",
    "        counts[i] = counts[i] + 1/(len(data) + len(label_feature_list))\n",
    "    return counts"
   ]
  },
  {
   "cell_type": "code",
   "execution_count": 50,
   "metadata": {},
   "outputs": [
    {
     "data": {
      "text/plain": [
       "[57.009803921568626, 43.009803921568626]"
      ]
     },
     "execution_count": 50,
     "metadata": {},
     "output_type": "execute_result"
    }
   ],
   "source": [
    "calculate_prior(a.label.attribute_list, a.data)"
   ]
  },
  {
   "cell_type": "code",
   "execution_count": null,
   "metadata": {},
   "outputs": [],
   "source": []
  }
 ],
 "metadata": {
  "kernelspec": {
   "display_name": "Python 3",
   "language": "python",
   "name": "python3"
  },
  "language_info": {
   "codemirror_mode": {
    "name": "ipython",
    "version": 3
   },
   "file_extension": ".py",
   "mimetype": "text/x-python",
   "name": "python",
   "nbconvert_exporter": "python",
   "pygments_lexer": "ipython3",
   "version": "3.6.5"
  }
 },
 "nbformat": 4,
 "nbformat_minor": 2
}
