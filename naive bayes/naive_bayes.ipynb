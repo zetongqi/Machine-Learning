{
 "cells": [
  {
   "cell_type": "code",
   "execution_count": 1,
   "metadata": {},
   "outputs": [],
   "source": [
    "from arff_parser import *"
   ]
  },
  {
   "cell_type": "code",
   "execution_count": 2,
   "metadata": {},
   "outputs": [],
   "source": [
    "def count_feature(feature_list, feature_col_num, data):\n",
    "    counts = [0] * len(feature_list)\n",
    "    for row in data:\n",
    "        for i in range(len(feature_list)):\n",
    "            if row[feature_col_num] == feature_list[i]:\n",
    "                counts[i] += 1\n",
    "    return counts"
   ]
  },
  {
   "cell_type": "code",
   "execution_count": 3,
   "metadata": {},
   "outputs": [
    {
     "data": {
      "text/plain": [
       "[57, 43]"
      ]
     },
     "execution_count": 3,
     "metadata": {},
     "output_type": "execute_result"
    }
   ],
   "source": [
    "a = arff_data(\"lymph_train.arff\")\n",
    "count_feature(a.all_attributes[-1].attribute_list, -1, a.data)"
   ]
  },
  {
   "cell_type": "code",
   "execution_count": 4,
   "metadata": {},
   "outputs": [
    {
     "data": {
      "text/plain": [
       "['metastases', 'malign_lymph']"
      ]
     },
     "execution_count": 4,
     "metadata": {},
     "output_type": "execute_result"
    }
   ],
   "source": [
    "a.all_attributes[-1].attribute_list"
   ]
  },
  {
   "cell_type": "code",
   "execution_count": 5,
   "metadata": {},
   "outputs": [],
   "source": [
    "def count_joint_probability(feature1_list, feature1_col_num, feature2_list, feature2_col_num, data):\n",
    "    label_counts = count_feature(feature2_list, -1, data)\n",
    "    feature_counts = []\n",
    "    for i in range(len(feature2_list)):\n",
    "        count_list = [0] * len(feature1_list)\n",
    "        for row in data:\n",
    "            for j in range(len(feature1_list)):\n",
    "                if row[feature1_col_num] == feature1_list[j] and row[feature2_col_num] == feature2_list[i]:\n",
    "                    count_list[j] += 1\n",
    "        for k in range(len(count_list)):\n",
    "            count_list[k] = (count_list[k]+1) / (label_counts[i] + len(feature1_list))\n",
    "        feature_counts.append(count_list)\n",
    "    return feature_counts"
   ]
  },
  {
   "cell_type": "code",
   "execution_count": 6,
   "metadata": {},
   "outputs": [
    {
     "data": {
      "text/plain": [
       "[[0.01639344262295082,\n",
       "  0.4426229508196721,\n",
       "  0.32786885245901637,\n",
       "  0.21311475409836064],\n",
       " [0.02127659574468085,\n",
       "  0.48936170212765956,\n",
       "  0.23404255319148937,\n",
       "  0.2553191489361702]]"
      ]
     },
     "execution_count": 6,
     "metadata": {},
     "output_type": "execute_result"
    }
   ],
   "source": [
    "count_joint_probability(a.all_attributes[0].attribute_list, 0, a.all_attributes[-1].attribute_list, -1, a.data)"
   ]
  },
  {
   "cell_type": "code",
   "execution_count": 7,
   "metadata": {},
   "outputs": [
    {
     "data": {
      "text/plain": [
       "0.22115384615384615"
      ]
     },
     "execution_count": 7,
     "metadata": {},
     "output_type": "execute_result"
    }
   ],
   "source": [
    "23/(len(a.data)+4)"
   ]
  },
  {
   "cell_type": "code",
   "execution_count": 8,
   "metadata": {},
   "outputs": [
    {
     "data": {
      "text/plain": [
       "['metastases', 'malign_lymph']"
      ]
     },
     "execution_count": 8,
     "metadata": {},
     "output_type": "execute_result"
    }
   ],
   "source": [
    "a.all_attributes[-1].attribute_list"
   ]
  },
  {
   "cell_type": "code",
   "execution_count": 9,
   "metadata": {},
   "outputs": [
    {
     "data": {
      "text/plain": [
       "['normal', 'arched', 'deformed', 'displaced']"
      ]
     },
     "execution_count": 9,
     "metadata": {},
     "output_type": "execute_result"
    }
   ],
   "source": [
    "a.all_attributes[0].attribute_list"
   ]
  },
  {
   "cell_type": "code",
   "execution_count": 10,
   "metadata": {},
   "outputs": [],
   "source": [
    "def calculate_prior(label_feature_list, data):\n",
    "    counts =  count_feature(label_feature_list, -1, data)\n",
    "    for i in range(len(counts)):\n",
    "        # Laplace estimates\n",
    "        counts[i] = (counts[i] + 1)/(len(data) + len(label_feature_list))\n",
    "    return counts"
   ]
  },
  {
   "cell_type": "code",
   "execution_count": 11,
   "metadata": {},
   "outputs": [
    {
     "data": {
      "text/plain": [
       "[0.5686274509803921, 0.43137254901960786]"
      ]
     },
     "execution_count": 11,
     "metadata": {},
     "output_type": "execute_result"
    }
   ],
   "source": [
    "calculate_prior(a.label.attribute_list, a.data)"
   ]
  },
  {
   "cell_type": "code",
   "execution_count": 12,
   "metadata": {},
   "outputs": [
    {
     "data": {
      "text/plain": [
       "0.5686274509803921"
      ]
     },
     "execution_count": 12,
     "metadata": {},
     "output_type": "execute_result"
    }
   ],
   "source": [
    "58/(len(a.data)+2)"
   ]
  },
  {
   "cell_type": "code",
   "execution_count": 13,
   "metadata": {},
   "outputs": [],
   "source": [
    "def get_all_joint_probability(arffdata):\n",
    "    probabilities = []\n",
    "    for i in range(len(arffdata.attributes)):\n",
    "        probabilities.append(count_joint_probability(arffdata.attributes[i].attribute_list, i, arffdata.label.attribute_list, -1, arffdata.data))\n",
    "    return probabilities"
   ]
  },
  {
   "cell_type": "code",
   "execution_count": 14,
   "metadata": {
    "scrolled": true
   },
   "outputs": [
    {
     "data": {
      "text/plain": [
       "[[[0.01639344262295082,\n",
       "   0.4426229508196721,\n",
       "   0.32786885245901637,\n",
       "   0.21311475409836064],\n",
       "  [0.02127659574468085,\n",
       "   0.48936170212765956,\n",
       "   0.23404255319148937,\n",
       "   0.2553191489361702]],\n",
       " [[0.2542372881355932, 0.7457627118644068],\n",
       "  [0.7111111111111111, 0.28888888888888886]],\n",
       " [[0.7627118644067796, 0.23728813559322035],\n",
       "  [0.9111111111111111, 0.08888888888888889]],\n",
       " [[0.9661016949152542, 0.03389830508474576],\n",
       "  [0.9555555555555556, 0.044444444444444446]],\n",
       " [[0.7288135593220338, 0.2711864406779661],\n",
       "  [0.8666666666666667, 0.13333333333333333]],\n",
       " [[0.4745762711864407, 0.5254237288135594],\n",
       "  [0.5111111111111111, 0.4888888888888889]],\n",
       " [[0.9661016949152542, 0.03389830508474576],\n",
       "  [0.9111111111111111, 0.08888888888888889]],\n",
       " [[0.423728813559322, 0.576271186440678],\n",
       "  [0.08888888888888889, 0.9111111111111111]],\n",
       " [[0.9661016949152542, 0.03389830508474576],\n",
       "  [0.9555555555555556, 0.044444444444444446]],\n",
       " [[0.08196721311475409,\n",
       "   0.6065573770491803,\n",
       "   0.26229508196721313,\n",
       "   0.04918032786885246],\n",
       "  [0.0425531914893617,\n",
       "   0.2978723404255319,\n",
       "   0.3829787234042553,\n",
       "   0.2765957446808511]],\n",
       " [[0.05, 0.45, 0.5],\n",
       "  [0.021739130434782608, 0.6304347826086957, 0.34782608695652173]],\n",
       " [[0.03278688524590164,\n",
       "   0.2786885245901639,\n",
       "   0.36065573770491804,\n",
       "   0.32786885245901637],\n",
       "  [0.02127659574468085,\n",
       "   0.3404255319148936,\n",
       "   0.2553191489361702,\n",
       "   0.3829787234042553]],\n",
       " [[0.03278688524590164,\n",
       "   0.21311475409836064,\n",
       "   0.7213114754098361,\n",
       "   0.03278688524590164],\n",
       "  [0.0425531914893617,\n",
       "   0.40425531914893614,\n",
       "   0.1702127659574468,\n",
       "   0.3829787234042553]],\n",
       " [[0.03076923076923077,\n",
       "   0.15384615384615385,\n",
       "   0.13846153846153847,\n",
       "   0.24615384615384617,\n",
       "   0.16923076923076924,\n",
       "   0.03076923076923077,\n",
       "   0.015384615384615385,\n",
       "   0.2153846153846154],\n",
       "  [0.0196078431372549,\n",
       "   0.058823529411764705,\n",
       "   0.09803921568627451,\n",
       "   0.1568627450980392,\n",
       "   0.1568627450980392,\n",
       "   0.0392156862745098,\n",
       "   0.09803921568627451,\n",
       "   0.37254901960784315]],\n",
       " [[0.26666666666666666, 0.45, 0.2833333333333333],\n",
       "  [0.08695652173913043, 0.13043478260869565, 0.782608695652174]],\n",
       " [[0.3898305084745763, 0.6101694915254238],\n",
       "  [0.26666666666666666, 0.7333333333333333]],\n",
       " [[0.2711864406779661, 0.7288135593220338],\n",
       "  [0.13333333333333333, 0.8666666666666667]],\n",
       " [[0.5076923076923077,\n",
       "   0.23076923076923078,\n",
       "   0.12307692307692308,\n",
       "   0.046153846153846156,\n",
       "   0.015384615384615385,\n",
       "   0.03076923076923077,\n",
       "   0.03076923076923077,\n",
       "   0.015384615384615385],\n",
       "  [0.17647058823529413,\n",
       "   0.17647058823529413,\n",
       "   0.1568627450980392,\n",
       "   0.09803921568627451,\n",
       "   0.13725490196078433,\n",
       "   0.11764705882352941,\n",
       "   0.09803921568627451,\n",
       "   0.0392156862745098]]]"
      ]
     },
     "execution_count": 14,
     "metadata": {},
     "output_type": "execute_result"
    }
   ],
   "source": [
    "get_all_joint_probability(a)"
   ]
  },
  {
   "cell_type": "code",
   "execution_count": 15,
   "metadata": {},
   "outputs": [
    {
     "data": {
      "text/plain": [
       "['displaced',\n",
       " 'no',\n",
       " 'no',\n",
       " 'no',\n",
       " 'no',\n",
       " 'yes',\n",
       " 'no',\n",
       " 'yes',\n",
       " '1',\n",
       " '4',\n",
       " 'oval',\n",
       " 'lacunar',\n",
       " 'lac_central',\n",
       " 'stripped',\n",
       " 'vesicles',\n",
       " 'yes',\n",
       " 'yes',\n",
       " '2',\n",
       " 'malign_lymph']"
      ]
     },
     "execution_count": 15,
     "metadata": {},
     "output_type": "execute_result"
    }
   ],
   "source": [
    "t = arff_data(\"lymph_test.arff\")\n",
    "t.data[0]"
   ]
  },
  {
   "cell_type": "code",
   "execution_count": 16,
   "metadata": {},
   "outputs": [],
   "source": [
    "def label_to_index(row, arffdata):\n",
    "    feature_index = []\n",
    "    for i in range(len(row)):\n",
    "        for j in range(len(arffdata.all_attributes[i].attribute_list)):\n",
    "            if row[i] == arffdata.all_attributes[i].attribute_list[j]:\n",
    "                feature_index.append(j)\n",
    "                continue\n",
    "    return feature_index"
   ]
  },
  {
   "cell_type": "code",
   "execution_count": 17,
   "metadata": {},
   "outputs": [
    {
     "data": {
      "text/plain": [
       "[3, 0, 0, 0, 0, 1, 0, 1, 0, 3, 1, 1, 3, 6, 2, 1, 1, 1, 1]"
      ]
     },
     "execution_count": 17,
     "metadata": {},
     "output_type": "execute_result"
    }
   ],
   "source": [
    "label_to_index(t.data[0], t)"
   ]
  },
  {
   "cell_type": "code",
   "execution_count": 18,
   "metadata": {},
   "outputs": [],
   "source": [
    "def naive_bayes_learning(arffdata):\n",
    "    joint_probabilities = get_all_joint_probability(arffdata)\n",
    "    prior = calculate_prior(arffdata.label.attribute_list, arffdata.data)\n",
    "    return joint_probabilities, prior"
   ]
  },
  {
   "cell_type": "code",
   "execution_count": 19,
   "metadata": {},
   "outputs": [],
   "source": [
    "def naive_bayes_inference(row, train_arffdata, joint_probabilities, prior):\n",
    "    feature_index = label_to_index(row, train_arffdata)\n",
    "    nominator1 = 1\n",
    "    nominator2 = 1\n",
    "    for i in range(len(feature_index)-1):\n",
    "        nominator1 = nominator1 * joint_probabilities[i][0][feature_index[i]]\n",
    "        nominator2 = nominator2 * joint_probabilities[i][1][feature_index[i]]\n",
    "    nominator1 = nominator1 * prior[0]\n",
    "    nominator2 = nominator2 * prior[1]\n",
    "    denominator = nominator1 + nominator2\n",
    "    if nominator1/denominator >= nominator2/denominator:\n",
    "        return 0\n",
    "    if nominator1/denominator < nominator2/denominator:\n",
    "        return 1"
   ]
  },
  {
   "cell_type": "code",
   "execution_count": 20,
   "metadata": {},
   "outputs": [
    {
     "data": {
      "text/plain": [
       "1"
      ]
     },
     "execution_count": 20,
     "metadata": {},
     "output_type": "execute_result"
    }
   ],
   "source": [
    "j, p = naive_bayes_learning(a)\n",
    "naive_bayes_inference(t.data[0], a, j, p)"
   ]
  },
  {
   "cell_type": "code",
   "execution_count": 21,
   "metadata": {},
   "outputs": [
    {
     "name": "stdout",
     "output_type": "stream",
     "text": [
      "1\n",
      "1\n",
      "1\n",
      "0\n",
      "0\n",
      "1\n",
      "1\n",
      "1\n",
      "1\n",
      "1\n",
      "0\n",
      "0\n",
      "1\n",
      "1\n",
      "1\n",
      "1\n",
      "0\n",
      "1\n",
      "0\n",
      "0\n",
      "0\n",
      "0\n",
      "0\n",
      "0\n",
      "0\n",
      "0\n",
      "0\n",
      "0\n",
      "0\n",
      "0\n",
      "0\n",
      "0\n",
      "0\n",
      "0\n",
      "0\n",
      "0\n",
      "0\n",
      "0\n",
      "0\n",
      "0\n",
      "1\n",
      "0\n"
     ]
    }
   ],
   "source": [
    "for row in t.data:\n",
    "    print(naive_bayes_inference(row, a, j, p))"
   ]
  },
  {
   "cell_type": "code",
   "execution_count": 22,
   "metadata": {},
   "outputs": [
    {
     "data": {
      "text/plain": [
       "[[[0.01639344262295082,\n",
       "   0.4426229508196721,\n",
       "   0.32786885245901637,\n",
       "   0.21311475409836064],\n",
       "  [0.02127659574468085,\n",
       "   0.48936170212765956,\n",
       "   0.23404255319148937,\n",
       "   0.2553191489361702]],\n",
       " [[0.2542372881355932, 0.7457627118644068],\n",
       "  [0.7111111111111111, 0.28888888888888886]],\n",
       " [[0.7627118644067796, 0.23728813559322035],\n",
       "  [0.9111111111111111, 0.08888888888888889]],\n",
       " [[0.9661016949152542, 0.03389830508474576],\n",
       "  [0.9555555555555556, 0.044444444444444446]],\n",
       " [[0.7288135593220338, 0.2711864406779661],\n",
       "  [0.8666666666666667, 0.13333333333333333]],\n",
       " [[0.4745762711864407, 0.5254237288135594],\n",
       "  [0.5111111111111111, 0.4888888888888889]],\n",
       " [[0.9661016949152542, 0.03389830508474576],\n",
       "  [0.9111111111111111, 0.08888888888888889]],\n",
       " [[0.423728813559322, 0.576271186440678],\n",
       "  [0.08888888888888889, 0.9111111111111111]],\n",
       " [[0.9661016949152542, 0.03389830508474576],\n",
       "  [0.9555555555555556, 0.044444444444444446]],\n",
       " [[0.08196721311475409,\n",
       "   0.6065573770491803,\n",
       "   0.26229508196721313,\n",
       "   0.04918032786885246],\n",
       "  [0.0425531914893617,\n",
       "   0.2978723404255319,\n",
       "   0.3829787234042553,\n",
       "   0.2765957446808511]],\n",
       " [[0.05, 0.45, 0.5],\n",
       "  [0.021739130434782608, 0.6304347826086957, 0.34782608695652173]],\n",
       " [[0.03278688524590164,\n",
       "   0.2786885245901639,\n",
       "   0.36065573770491804,\n",
       "   0.32786885245901637],\n",
       "  [0.02127659574468085,\n",
       "   0.3404255319148936,\n",
       "   0.2553191489361702,\n",
       "   0.3829787234042553]],\n",
       " [[0.03278688524590164,\n",
       "   0.21311475409836064,\n",
       "   0.7213114754098361,\n",
       "   0.03278688524590164],\n",
       "  [0.0425531914893617,\n",
       "   0.40425531914893614,\n",
       "   0.1702127659574468,\n",
       "   0.3829787234042553]],\n",
       " [[0.03076923076923077,\n",
       "   0.15384615384615385,\n",
       "   0.13846153846153847,\n",
       "   0.24615384615384617,\n",
       "   0.16923076923076924,\n",
       "   0.03076923076923077,\n",
       "   0.015384615384615385,\n",
       "   0.2153846153846154],\n",
       "  [0.0196078431372549,\n",
       "   0.058823529411764705,\n",
       "   0.09803921568627451,\n",
       "   0.1568627450980392,\n",
       "   0.1568627450980392,\n",
       "   0.0392156862745098,\n",
       "   0.09803921568627451,\n",
       "   0.37254901960784315]],\n",
       " [[0.26666666666666666, 0.45, 0.2833333333333333],\n",
       "  [0.08695652173913043, 0.13043478260869565, 0.782608695652174]],\n",
       " [[0.3898305084745763, 0.6101694915254238],\n",
       "  [0.26666666666666666, 0.7333333333333333]],\n",
       " [[0.2711864406779661, 0.7288135593220338],\n",
       "  [0.13333333333333333, 0.8666666666666667]],\n",
       " [[0.5076923076923077,\n",
       "   0.23076923076923078,\n",
       "   0.12307692307692308,\n",
       "   0.046153846153846156,\n",
       "   0.015384615384615385,\n",
       "   0.03076923076923077,\n",
       "   0.03076923076923077,\n",
       "   0.015384615384615385],\n",
       "  [0.17647058823529413,\n",
       "   0.17647058823529413,\n",
       "   0.1568627450980392,\n",
       "   0.09803921568627451,\n",
       "   0.13725490196078433,\n",
       "   0.11764705882352941,\n",
       "   0.09803921568627451,\n",
       "   0.0392156862745098]]]"
      ]
     },
     "execution_count": 22,
     "metadata": {},
     "output_type": "execute_result"
    }
   ],
   "source": [
    "j"
   ]
  },
  {
   "cell_type": "code",
   "execution_count": null,
   "metadata": {},
   "outputs": [],
   "source": []
  }
 ],
 "metadata": {
  "kernelspec": {
   "display_name": "Python 3",
   "language": "python",
   "name": "python3"
  },
  "language_info": {
   "codemirror_mode": {
    "name": "ipython",
    "version": 3
   },
   "file_extension": ".py",
   "mimetype": "text/x-python",
   "name": "python",
   "nbconvert_exporter": "python",
   "pygments_lexer": "ipython3",
   "version": "3.6.5"
  }
 },
 "nbformat": 4,
 "nbformat_minor": 2
}
