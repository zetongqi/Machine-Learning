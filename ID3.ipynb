{
 "cells": [
  {
   "cell_type": "code",
   "execution_count": 91,
   "metadata": {},
   "outputs": [],
   "source": [
    "from arff_parser import *\n",
    "import numpy as np\n",
    "import sys\n",
    "import math"
   ]
  },
  {
   "cell_type": "code",
   "execution_count": 145,
   "metadata": {},
   "outputs": [],
   "source": [
    "class Question:\n",
    "    def __init__(self, arffdata, feature_num, value):\n",
    "        #feature is the column number in the data set, nominal=1: feature is nominal\n",
    "        self.feature = arffdata.attributes[feature_num].name\n",
    "        self.value = value\n",
    "        self.type = arffdata.all_attributes[feature_num].type\n",
    "    \n",
    "    def is_numeric(self):\n",
    "        if arffdata.all_attributes[feature_num].type == \"real\":\n",
    "            return 1\n",
    "        if arffdata.all_attributes[feature_num].type == \"nominal\":\n",
    "            return 0\n",
    "        \n",
    "    def __repr__(self):\n",
    "        if arffdata.all_attributes[feature_num].type == \"nominal\":\n",
    "            return \"%s == %s ?\" % (self.feature, self.value)\n",
    "        if arffdata.all_attributes[feature_num].type == \"real\":\n",
    "            return \"%s > %s ?\" % (self.feature, self.value)"
   ]
  },
  {
   "cell_type": "code",
   "execution_count": 93,
   "metadata": {},
   "outputs": [],
   "source": [
    "def get_feature_data(column_num, data):\n",
    "    column = []\n",
    "    for row in data:\n",
    "        column.append(row[column_num])\n",
    "    return column"
   ]
  },
  {
   "cell_type": "code",
   "execution_count": 94,
   "metadata": {},
   "outputs": [],
   "source": [
    "#given the arff data and feature number, return a list of candidate splits\n",
    "#arffdata carries feature info and data carries actual data\n",
    "def determine_candidate_split(arffdata, data, feature_num):\n",
    "    feature_value_list = get_feature_data(feature_num, data)\n",
    "    \n",
    "    if arffdata.all_attributes[feature_num].type == \"real\":\n",
    "        feature_value_list = sorted(feature_value_list)\n",
    "        candidates = []\n",
    "        for i in range(len(feature_value_list)-1):        \n",
    "            candidates.append((feature_value_list[i]+feature_value_list[i+1])/2)\n",
    "        return sorted(list(set(candidates)))\n",
    "    \n",
    "    if arffdata.all_attributes[feature_num].type == \"nominal\":\n",
    "        candidates = arffdata.all_attributes[feature_num].attribute_list\n",
    "        return candidates"
   ]
  },
  {
   "cell_type": "code",
   "execution_count": 95,
   "metadata": {},
   "outputs": [],
   "source": [
    "def split_data(data, arffdata, feature_num, threshold):\n",
    "    attributes = arffdata.all_attributes[feature_num].attribute_list\n",
    "    if arffdata.all_attributes[feature_num].type == \"real\":\n",
    "        nominal = 0\n",
    "    if arffdata.all_attributes[feature_num].type == \"nominal\":\n",
    "        nominal = 1\n",
    "    splited_data = []\n",
    "    \n",
    "    if nominal == 1:\n",
    "        for i in range(len(attributes)):\n",
    "            split = []\n",
    "            for j in data:\n",
    "                if j[feature_num] == attributes[i]:\n",
    "                    split.append(j)\n",
    "            splited_data.append(split)\n",
    "    \n",
    "    if nominal == 0:\n",
    "        left = []\n",
    "        right = []\n",
    "        for i in data:\n",
    "            if i[feature_num] > threshold:\n",
    "                left.append(i)\n",
    "            else:\n",
    "                right.append(i)\n",
    "        splited_data.append(left)\n",
    "        splited_data.append(right)\n",
    "        \n",
    "    return splited_data"
   ]
  },
  {
   "cell_type": "code",
   "execution_count": 96,
   "metadata": {},
   "outputs": [],
   "source": [
    "def label_entropy(data, arffdata):\n",
    "    cnt = 0\n",
    "    for i in data:\n",
    "        if arffdata.label.attribute_list[0] == i[-1]:\n",
    "            cnt += 1\n",
    "    p = cnt/len(data)\n",
    "    return -p*math.log2(p)-(1-p)*math.log2(1-p)"
   ]
  },
  {
   "cell_type": "code",
   "execution_count": 97,
   "metadata": {},
   "outputs": [],
   "source": [
    "def Entropy(p):\n",
    "    return -p*math.log2(p)"
   ]
  },
  {
   "cell_type": "code",
   "execution_count": 169,
   "metadata": {},
   "outputs": [],
   "source": [
    "def real_feature_entropy(data, arffdata, feature_num, threshold):\n",
    "    cnt_greater = 0\n",
    "    cnt_pos_greater = 0\n",
    "    cnt_pos_less = 0\n",
    "    for i in data:\n",
    "        if i[feature_num] > threshold:\n",
    "            cnt_greater += 1\n",
    "        if i[-1] == arffdata.label.attribute_list[0] == i[-1] and i[feature_num] > threshold:\n",
    "            cnt_pos_greater += 1\n",
    "        if i[-1] == arffdata.label.attribute_list[0] == i[-1] and i[feature_num] <= threshold:\n",
    "            cnt_pos_less += 1\n",
    "    p_greater = cnt_greater/len(data)\n",
    "    if cnt_greater == 0:\n",
    "        p_cnt_pos_greater = 0\n",
    "    else:\n",
    "        p_cnt_pos_greater = cnt_pos_greater/cnt_greater\n",
    "    p_cnt_pos_less = cnt_pos_less/(len(data)-cnt_greater)\n",
    "    if p_cnt_pos_greater != 0:\n",
    "        E1 = Entropy(p_cnt_pos_greater)\n",
    "    else:\n",
    "        E1 = 0\n",
    "    if 1-p_cnt_pos_greater != 0:\n",
    "        E2 = Entropy(1-p_cnt_pos_greater)\n",
    "    else:\n",
    "        E2 = 0\n",
    "    if p_cnt_pos_less != 0:\n",
    "        E3 = Entropy(p_cnt_pos_less)\n",
    "    else:\n",
    "        E3 = 0\n",
    "    if 1-p_cnt_pos_less:\n",
    "        E4 = Entropy(1-p_cnt_pos_less)\n",
    "    else:\n",
    "        E4 = 0\n",
    "    entropy = p_greater*(E1+E2) + (1-p_greater)*(E3+E4)\n",
    "    return entropy"
   ]
  },
  {
   "cell_type": "code",
   "execution_count": 170,
   "metadata": {},
   "outputs": [
    {
     "data": {
      "text/plain": [
       "0.699136348426275"
      ]
     },
     "execution_count": 170,
     "metadata": {},
     "output_type": "execute_result"
    }
   ],
   "source": [
    "a = arff_data(\"credit_train.arff\")\n",
    "real_feature_entropy(a.data, a, 6, 5)"
   ]
  },
  {
   "cell_type": "code",
   "execution_count": 120,
   "metadata": {},
   "outputs": [
    {
     "data": {
      "text/plain": [
       "0.8653409924402704"
      ]
     },
     "execution_count": 120,
     "metadata": {},
     "output_type": "execute_result"
    }
   ],
   "source": [
    "label_entropy(a.data, a)"
   ]
  },
  {
   "cell_type": "code",
   "execution_count": 214,
   "metadata": {},
   "outputs": [],
   "source": [
    "def nominal_feature_entropy(data, arffdata, feature_num):\n",
    "    entropy = 0\n",
    "    for i in arffdata.all_attributes[feature_num].attribute_list:\n",
    "        cnt = 0\n",
    "        cnt_pos = 0   \n",
    "        for row in data:\n",
    "            if row[feature_num] == i:\n",
    "                cnt += 1\n",
    "            if row[feature_num] == i and row[-1] == arffdata.label.attribute_list[0]:\n",
    "                cnt_pos += 1\n",
    "        if cnt == 0:\n",
    "            p_cnt_pos = 0\n",
    "        else:\n",
    "            p_cnt_pos = cnt_pos/cnt\n",
    "        if p_cnt_pos != 0:\n",
    "            E1 = Entropy(p_cnt_pos)\n",
    "        else:\n",
    "            E1 = 0\n",
    "        if 1- p_cnt_pos != 0:\n",
    "            E2 = Entropy(1-p_cnt_pos)\n",
    "        else:\n",
    "            E2 = 0\n",
    "        entropy += (cnt/len(data))*(E1+E2)\n",
    "    return entropy"
   ]
  },
  {
   "cell_type": "code",
   "execution_count": 215,
   "metadata": {},
   "outputs": [
    {
     "data": {
      "text/plain": [
       "0.0005402573000333755"
      ]
     },
     "execution_count": 215,
     "metadata": {},
     "output_type": "execute_result"
    }
   ],
   "source": [
    "info_gain(a.data, a, 0, 0)"
   ]
  },
  {
   "cell_type": "code",
   "execution_count": 216,
   "metadata": {},
   "outputs": [],
   "source": [
    "def entropy(data, arffdata, feature_num, threshold):\n",
    "    if arffdata.all_attributes[feature_num].type == \"real\":\n",
    "        return real_feature_entropy(data, arffdata, feature_num, threshold)\n",
    "    if arffdata.all_attributes[feature_num].type == \"nominal\":\n",
    "        return nominal_feature_entropy(data, arffdata, feature_num)"
   ]
  },
  {
   "cell_type": "code",
   "execution_count": 217,
   "metadata": {},
   "outputs": [],
   "source": [
    "def info_gain(data, arffdata, feature_num, threshold):\n",
    "    return label_entropy(data, arffdata)-entropy(data, arffdata, feature_num, threshold)"
   ]
  },
  {
   "cell_type": "code",
   "execution_count": 218,
   "metadata": {},
   "outputs": [],
   "source": [
    "def find_best_numeric_candidate(data, arffdata, feature_num):\n",
    "    candidates = determine_candidate_split(arffdata, data, feature_num)\n",
    "    best_candidate = candidates[0]\n",
    "    best_info_gain = info_gain(data, arffdata, feature_num, candidates[0])\n",
    "    \n",
    "    for i in range(1, len(candidates)):\n",
    "        if info_gain(data, arffdata, feature_num, candidates[i]) > best_info_gain:\n",
    "            best_info_gain = info_gain(data, arffdata, feature_num, candidates[i])\n",
    "            best_candidate = candidates[i]\n",
    "    return best_candidate, best_info_gain"
   ]
  },
  {
   "cell_type": "code",
   "execution_count": 219,
   "metadata": {
    "scrolled": false
   },
   "outputs": [
    {
     "data": {
      "text/plain": [
       "(492.0, 0.0734723112044664)"
      ]
     },
     "execution_count": 219,
     "metadata": {},
     "output_type": "execute_result"
    }
   ],
   "source": [
    "find_best_numeric_candidate(a.data, a, 7)"
   ]
  },
  {
   "cell_type": "code",
   "execution_count": 220,
   "metadata": {},
   "outputs": [
    {
     "data": {
      "text/plain": [
       "0.01999003567874491"
      ]
     },
     "execution_count": 220,
     "metadata": {},
     "output_type": "execute_result"
    }
   ],
   "source": [
    "info_gain(a.data, a, 3, 3)"
   ]
  },
  {
   "cell_type": "code",
   "execution_count": 221,
   "metadata": {},
   "outputs": [
    {
     "data": {
      "text/plain": [
       "10.0"
      ]
     },
     "execution_count": 221,
     "metadata": {},
     "output_type": "execute_result"
    }
   ],
   "source": [
    "determine_candidate_split(a, a.data, 6)[19]"
   ]
  },
  {
   "cell_type": "code",
   "execution_count": 222,
   "metadata": {},
   "outputs": [],
   "source": [
    "class Node:\n",
    "    def __init__(self, question, data):\n",
    "        self.question = question\n",
    "        self.data = data\n",
    "        self.children = []\n",
    "        \n",
    "    def add_children(self, child):\n",
    "        if isinstance(child, Node):\n",
    "            self.children.append(child)\n",
    "        else:\n",
    "            print(\"Error: Children must be of Node type\")\n",
    "    def __repr__(self):\n",
    "        if self.question.is_numeric() == 1:\n",
    "            return \"%s == %s ?\" % (self.question.feature, self.question.value)\n",
    "        if self.question.is_numeric() == 0:\n",
    "            return \"%s > %s ?\" % (self.question.feature, self.question.value)"
   ]
  },
  {
   "cell_type": "code",
   "execution_count": 223,
   "metadata": {},
   "outputs": [],
   "source": [
    "class Leaf:\n",
    "    def __init__(self, data):\n",
    "        self.data = data"
   ]
  },
  {
   "cell_type": "code",
   "execution_count": 224,
   "metadata": {},
   "outputs": [],
   "source": [
    "def if_same_class(data):\n",
    "    if len(list(set(get_feature_data(-1, data)))) == 1:\n",
    "        return 1\n",
    "    else:\n",
    "        return 0"
   ]
  },
  {
   "cell_type": "code",
   "execution_count": 225,
   "metadata": {},
   "outputs": [
    {
     "data": {
      "text/plain": [
       "0"
      ]
     },
     "execution_count": 225,
     "metadata": {},
     "output_type": "execute_result"
    }
   ],
   "source": [
    "if_same_class(a.data)"
   ]
  },
  {
   "cell_type": "code",
   "execution_count": 234,
   "metadata": {},
   "outputs": [],
   "source": [
    "def find_best_split(data, arffdata):\n",
    "    best_split = 0\n",
    "    best_info_gain = -10000000\n",
    "    \n",
    "    for i in range(len(arffdata.attributes)):\n",
    "        if arffdata.attributes[i].type == \"real\":\n",
    "            numeric, _ = find_best_numeric_candidate(data, arffdata, i)\n",
    "            gain = info_gain(data, arffdata, i, numeric)\n",
    "            if gain > best_info_gain:\n",
    "                best_info_gain = gain\n",
    "                best_split = i\n",
    "        if arffdata.attributes[i].type == \"nominal\":\n",
    "            gain = info_gain(data, arffdata, i, 0)\n",
    "            if gain > best_info_gain:\n",
    "                best_info_gain = gain\n",
    "                best_split = i\n",
    "        print(gain)\n",
    "    return best_split"
   ]
  },
  {
   "cell_type": "code",
   "execution_count": 235,
   "metadata": {},
   "outputs": [
    {
     "name": "stdout",
     "output_type": "stream",
     "text": [
      "0.0005402573000333755\n",
      "0.02993379281204922\n",
      "0.07377005439269024\n",
      "0.01999003567874491\n",
      "0.01999003567874491\n",
      "0.14837507956162044\n",
      "0.1922114012110726\n",
      "0.0734723112044664\n"
     ]
    },
    {
     "data": {
      "text/plain": [
       "6"
      ]
     },
     "execution_count": 235,
     "metadata": {},
     "output_type": "execute_result"
    }
   ],
   "source": [
    "find_best_split(a.data, a)"
   ]
  },
  {
   "cell_type": "code",
   "execution_count": 228,
   "metadata": {},
   "outputs": [
    {
     "data": {
      "text/plain": [
       "0.0005402573000333755"
      ]
     },
     "execution_count": 228,
     "metadata": {},
     "output_type": "execute_result"
    }
   ],
   "source": [
    "info_gain(a.data, a, 0, 0)"
   ]
  },
  {
   "cell_type": "code",
   "execution_count": 229,
   "metadata": {},
   "outputs": [
    {
     "data": {
      "text/plain": [
       "(2.0, 0.1922114012110726)"
      ]
     },
     "execution_count": 229,
     "metadata": {},
     "output_type": "execute_result"
    }
   ],
   "source": [
    "find_best_numeric_candidate(a.data, a, 6)"
   ]
  },
  {
   "cell_type": "code",
   "execution_count": null,
   "metadata": {},
   "outputs": [],
   "source": [
    "def build_tree(sub_data, arffdata, m):\n",
    "    if len(sub_data) <= m or if_same_class(sub_data) == 1:\n",
    "        return Leaf(sub_data)\n",
    "    else:\n",
    "        "
   ]
  }
 ],
 "metadata": {
  "kernelspec": {
   "display_name": "Python 3",
   "language": "python",
   "name": "python3"
  },
  "language_info": {
   "codemirror_mode": {
    "name": "ipython",
    "version": 3
   },
   "file_extension": ".py",
   "mimetype": "text/x-python",
   "name": "python",
   "nbconvert_exporter": "python",
   "pygments_lexer": "ipython3",
   "version": "3.6.2"
  }
 },
 "nbformat": 4,
 "nbformat_minor": 2
}
