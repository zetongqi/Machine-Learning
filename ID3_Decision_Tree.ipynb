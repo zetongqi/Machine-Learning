{
 "cells": [
  {
   "cell_type": "code",
   "execution_count": 1,
   "metadata": {},
   "outputs": [],
   "source": [
    "from arff_parser import *\n",
    "import numpy as np\n",
    "import sys\n",
    "import math"
   ]
  },
  {
   "cell_type": "code",
   "execution_count": 54,
   "metadata": {},
   "outputs": [],
   "source": [
    "class Question:\n",
    "    def __init__(self, arffdata, feature_num, value, less_than = 1):\n",
    "        #feature is the column number in the data set, nominal=1: feature is nominal\n",
    "        self.arffdata = arffdata\n",
    "        self.feature = arffdata.attributes[feature_num].name\n",
    "        self.feature_num = feature_num\n",
    "        self.value = value\n",
    "        self.type = arffdata.all_attributes[feature_num].type\n",
    "        self.less_than = less_than\n",
    "    \n",
    "    def is_numeric(self):\n",
    "        if self.arffdata.all_attributes[feature_num].type == \"real\":\n",
    "            return 1\n",
    "        if self.arffdata.all_attributes[feature_num].type == \"nominal\":\n",
    "            return 0\n",
    "        \n",
    "    def match(self, row):\n",
    "        if self.type == \"nominal\":\n",
    "            if row[self.feature_num] == self.value:\n",
    "                return True\n",
    "            else:\n",
    "                return False\n",
    "        if self.type == \"real\":\n",
    "            if self.less_than == 0:\n",
    "                if row[self.feature_num] > self.value:\n",
    "                    return True\n",
    "                else:\n",
    "                    return False\n",
    "            if self.less_than == 1:\n",
    "                if row[self.feature_num] <= self.value:\n",
    "                    return True\n",
    "                else:\n",
    "                    return False\n",
    "        \n",
    "    def __repr__(self):\n",
    "        if self.arffdata.all_attributes[self.feature_num].type == \"nominal\":\n",
    "            return \"%s == %s\" % (self.feature, self.value)\n",
    "        if self.arffdata.all_attributes[self.feature_num].type == \"real\":\n",
    "            if self.less_than == 0:\n",
    "                return \"%s > %s\" % (self.feature, self.value)\n",
    "            if self.less_than == 1:\n",
    "                return \"%s <= %s\" % (self.feature, self.value)"
   ]
  },
  {
   "cell_type": "code",
   "execution_count": 3,
   "metadata": {},
   "outputs": [],
   "source": [
    "def get_feature_data(column_num, data):\n",
    "    column = []\n",
    "    for row in data:\n",
    "        column.append(row[column_num])\n",
    "    return column"
   ]
  },
  {
   "cell_type": "code",
   "execution_count": 4,
   "metadata": {},
   "outputs": [],
   "source": [
    "#given the arff data and feature number, return a list of candidate splits\n",
    "#arffdata carries feature info and data carries actual data\n",
    "def determine_candidate_split(arffdata, data, feature_num):\n",
    "    feature_value_list = get_feature_data(feature_num, data)\n",
    "    \n",
    "    if arffdata.all_attributes[feature_num].type == \"real\":\n",
    "        feature_value_list = sorted(feature_value_list)\n",
    "        candidates = []\n",
    "        for i in range(len(feature_value_list)-1):        \n",
    "            candidates.append((feature_value_list[i]+feature_value_list[i+1])/2)\n",
    "        return sorted(list(set(candidates)))\n",
    "    \n",
    "    if arffdata.all_attributes[feature_num].type == \"nominal\":\n",
    "        candidates = arffdata.all_attributes[feature_num].attribute_list\n",
    "        return candidates"
   ]
  },
  {
   "cell_type": "code",
   "execution_count": 5,
   "metadata": {},
   "outputs": [],
   "source": [
    "def split_data(data, arffdata, feature_num, threshold):\n",
    "    attributes = arffdata.all_attributes[feature_num].attribute_list\n",
    "    if arffdata.all_attributes[feature_num].type == \"real\":\n",
    "        nominal = 0\n",
    "    if arffdata.all_attributes[feature_num].type == \"nominal\":\n",
    "        nominal = 1\n",
    "    splited_data = []\n",
    "    \n",
    "    if nominal == 1:\n",
    "        for i in range(len(attributes)):\n",
    "            split = []\n",
    "            for j in data:\n",
    "                if j[feature_num] == attributes[i]:\n",
    "                    split.append(j)\n",
    "            splited_data.append(split)\n",
    "    \n",
    "    if nominal == 0:\n",
    "        left = []\n",
    "        right = []\n",
    "        for i in data:\n",
    "            if i[feature_num] > threshold:\n",
    "                left.append(i)\n",
    "            else:\n",
    "                right.append(i)\n",
    "        splited_data.append(right)\n",
    "        splited_data.append(left)\n",
    "        \n",
    "    return splited_data"
   ]
  },
  {
   "cell_type": "code",
   "execution_count": 6,
   "metadata": {},
   "outputs": [],
   "source": [
    "def label_entropy(data, arffdata):\n",
    "    cnt = 0\n",
    "    for i in data:\n",
    "        if arffdata.label.attribute_list[0] == i[-1]:\n",
    "            cnt += 1\n",
    "    p = cnt/len(data)\n",
    "    return -p*math.log2(p)-(1-p)*math.log2(1-p)"
   ]
  },
  {
   "cell_type": "code",
   "execution_count": 7,
   "metadata": {},
   "outputs": [],
   "source": [
    "def Entropy(p):\n",
    "    return -p*math.log2(p)"
   ]
  },
  {
   "cell_type": "code",
   "execution_count": 8,
   "metadata": {},
   "outputs": [],
   "source": [
    "def real_feature_entropy(data, arffdata, feature_num, threshold):\n",
    "    cnt_greater = 0\n",
    "    cnt_pos_greater = 0\n",
    "    cnt_pos_less = 0\n",
    "    for i in data:\n",
    "        if i[feature_num] > threshold:\n",
    "            cnt_greater += 1\n",
    "        if i[-1] == arffdata.label.attribute_list[0] == i[-1] and i[feature_num] > threshold:\n",
    "            cnt_pos_greater += 1\n",
    "        if i[-1] == arffdata.label.attribute_list[0] == i[-1] and i[feature_num] <= threshold:\n",
    "            cnt_pos_less += 1\n",
    "    p_greater = cnt_greater/len(data)\n",
    "    if cnt_greater == 0:\n",
    "        p_cnt_pos_greater = 0\n",
    "    else:\n",
    "        p_cnt_pos_greater = cnt_pos_greater/cnt_greater\n",
    "    p_cnt_pos_less = cnt_pos_less/(len(data)-cnt_greater)\n",
    "    if p_cnt_pos_greater != 0:\n",
    "        E1 = Entropy(p_cnt_pos_greater)\n",
    "    else:\n",
    "        E1 = 0\n",
    "    if 1-p_cnt_pos_greater != 0:\n",
    "        E2 = Entropy(1-p_cnt_pos_greater)\n",
    "    else:\n",
    "        E2 = 0\n",
    "    if p_cnt_pos_less != 0:\n",
    "        E3 = Entropy(p_cnt_pos_less)\n",
    "    else:\n",
    "        E3 = 0\n",
    "    if 1-p_cnt_pos_less:\n",
    "        E4 = Entropy(1-p_cnt_pos_less)\n",
    "    else:\n",
    "        E4 = 0\n",
    "    entropy = p_greater*(E1+E2) + (1-p_greater)*(E3+E4)\n",
    "    return entropy"
   ]
  },
  {
   "cell_type": "code",
   "execution_count": 11,
   "metadata": {},
   "outputs": [],
   "source": [
    "def nominal_feature_entropy(data, arffdata, feature_num):\n",
    "    entropy = 0\n",
    "    for i in arffdata.all_attributes[feature_num].attribute_list:\n",
    "        cnt = 0\n",
    "        cnt_pos = 0   \n",
    "        for row in data:\n",
    "            if row[feature_num] == i:\n",
    "                cnt += 1\n",
    "            if row[feature_num] == i and row[-1] == arffdata.label.attribute_list[0]:\n",
    "                cnt_pos += 1\n",
    "        if cnt == 0:\n",
    "            p_cnt_pos = 0\n",
    "        else:\n",
    "            p_cnt_pos = cnt_pos/cnt\n",
    "        if p_cnt_pos != 0:\n",
    "            E1 = Entropy(p_cnt_pos)\n",
    "        else:\n",
    "            E1 = 0\n",
    "        if 1- p_cnt_pos != 0:\n",
    "            E2 = Entropy(1-p_cnt_pos)\n",
    "        else:\n",
    "            E2 = 0\n",
    "        entropy += (cnt/len(data))*(E1+E2)\n",
    "    return entropy"
   ]
  },
  {
   "cell_type": "code",
   "execution_count": 12,
   "metadata": {},
   "outputs": [],
   "source": [
    "def entropy(data, arffdata, feature_num, threshold):\n",
    "    if arffdata.all_attributes[feature_num].type == \"real\":\n",
    "        return real_feature_entropy(data, arffdata, feature_num, threshold)\n",
    "    if arffdata.all_attributes[feature_num].type == \"nominal\":\n",
    "        return nominal_feature_entropy(data, arffdata, feature_num)"
   ]
  },
  {
   "cell_type": "code",
   "execution_count": 13,
   "metadata": {},
   "outputs": [],
   "source": [
    "def info_gain(data, arffdata, feature_num, threshold):\n",
    "    return label_entropy(data, arffdata)-entropy(data, arffdata, feature_num, threshold)"
   ]
  },
  {
   "cell_type": "code",
   "execution_count": 14,
   "metadata": {},
   "outputs": [],
   "source": [
    "def find_best_numeric_candidate(data, arffdata, feature_num):\n",
    "    candidates = determine_candidate_split(arffdata, data, feature_num)\n",
    "    best_candidate = candidates[0]\n",
    "    best_info_gain = info_gain(data, arffdata, feature_num, candidates[0])\n",
    "    \n",
    "    for i in range(1, len(candidates)):\n",
    "        if info_gain(data, arffdata, feature_num, candidates[i]) > best_info_gain:\n",
    "            best_info_gain = info_gain(data, arffdata, feature_num, candidates[i])\n",
    "            best_candidate = candidates[i]\n",
    "    return best_candidate, best_info_gain"
   ]
  },
  {
   "cell_type": "code",
   "execution_count": 18,
   "metadata": {},
   "outputs": [],
   "source": [
    "class Node:\n",
    "    def __init__(self, questions, data):\n",
    "        self.questions = questions\n",
    "        self.data = data\n",
    "        self.children = []\n",
    "        \n",
    "    def add_children(self, child):\n",
    "        if isinstance(child, Node):\n",
    "            self.children.append(child)\n",
    "        else:\n",
    "            print(\"Error: Children must be of Node type\")\n",
    "    \"\"\"def __repr__(self):\n",
    "        if self.question.is_numeric() == 1:\n",
    "            return \"%s == %s ?\" % (self.question.feature, self.question.value)\n",
    "        if self.question.is_numeric() == 0:\n",
    "            return \"%s > %s ?\" % (self.question.feature, self.question.value)\"\"\""
   ]
  },
  {
   "cell_type": "code",
   "execution_count": 19,
   "metadata": {},
   "outputs": [],
   "source": [
    "class Leaf:\n",
    "    def __init__(self, data):\n",
    "        self.data = data"
   ]
  },
  {
   "cell_type": "code",
   "execution_count": 20,
   "metadata": {},
   "outputs": [],
   "source": [
    "def if_same_class(data):\n",
    "    if len(list(set(get_feature_data(-1, data)))) == 1:\n",
    "        return 1\n",
    "    else:\n",
    "        return 0"
   ]
  },
  {
   "cell_type": "code",
   "execution_count": 22,
   "metadata": {},
   "outputs": [],
   "source": [
    "def find_best_split(data, arffdata):\n",
    "    best_split = 0\n",
    "    best_info_gain = -10000000\n",
    "    \n",
    "    for i in range(len(arffdata.attributes)):\n",
    "        if arffdata.attributes[i].type == \"real\":\n",
    "            numeric, _ = find_best_numeric_candidate(data, arffdata, i)\n",
    "            gain = info_gain(data, arffdata, i, numeric)\n",
    "            if gain > best_info_gain:\n",
    "                best_info_gain = gain\n",
    "                best_split = i\n",
    "        if arffdata.attributes[i].type == \"nominal\":\n",
    "            gain = info_gain(data, arffdata, i, 0)\n",
    "            if gain > best_info_gain:\n",
    "                best_info_gain = gain\n",
    "                best_split = i\n",
    "    return best_split, best_info_gain"
   ]
  },
  {
   "cell_type": "code",
   "execution_count": 26,
   "metadata": {},
   "outputs": [],
   "source": [
    "def build_tree(subdata, arffdata, m):    \n",
    "    if len(subdata) < m or if_same_class(subdata) == 1:\n",
    "        return Leaf(subdata)\n",
    "    \n",
    "    else:\n",
    "        best_split, best_info_gain = find_best_split(subdata, arffdata)\n",
    "        #print(best_split)\n",
    "        if arffdata.attributes[best_split].type == \"real\":\n",
    "            threshold, _ = find_best_numeric_candidate(subdata, arffdata, best_split)\n",
    "            splited_data = split_data(subdata, arffdata, best_split, threshold)\n",
    "            questions = [Question(arffdata, best_split, threshold), Question(arffdata, best_split, threshold, 0)]\n",
    "            node = Node(questions, subdata)\n",
    "            for i in splited_data:\n",
    "                node.children.append(build_tree(i, arffdata, m))\n",
    "            return node\n",
    "        \n",
    "        if arffdata.attributes[best_split].type == \"nominal\":\n",
    "            splited_data = split_data(subdata, arffdata, best_split, 0)\n",
    "            questions = []\n",
    "            for i in arffdata.attributes[best_split].attribute_list:\n",
    "                questions.append(Question(arffdata, best_split, i))\n",
    "            node = Node(questions, subdata)\n",
    "            for i in splited_data:\n",
    "                node.children.append(build_tree(i, arffdata, m))\n",
    "            return node"
   ]
  },
  {
   "cell_type": "code",
   "execution_count": 28,
   "metadata": {},
   "outputs": [],
   "source": [
    "def get_majority(data, arffdata):\n",
    "    cnt1 = 0\n",
    "    cnt2 = 0\n",
    "    for i in data:\n",
    "        if i[-1] == arffdata.label.attribute_list[0]:\n",
    "            cnt1 += 1\n",
    "        if i[-1] == arffdata.label.attribute_list[1]:\n",
    "            cnt2 += 1\n",
    "    if cnt1 >= cnt2:\n",
    "        return arffdata.label.attribute_list[0]\n",
    "    else:\n",
    "        return arffdata.label.attribute_list[1]"
   ]
  },
  {
   "cell_type": "code",
   "execution_count": 45,
   "metadata": {},
   "outputs": [],
   "source": [
    "def print_tree(arffdata, node, spacing=\"\"):\n",
    "\n",
    "    if isinstance(node, Leaf):\n",
    "        return\n",
    "\n",
    "    for i in range(len(node.children)):\n",
    "        if type(node.children[i]) is Node:\n",
    "            print(spacing + str(node.questions[i]), sep = \"\")\n",
    "        else:\n",
    "            print(spacing + str(node.questions[i])+\" (\"+get_majority(node.children[i].data, arffdata)+\")\", sep = \"\")\n",
    "        print_tree(arffdata, node.children[i], spacing + \"|   \")"
   ]
  },
  {
   "cell_type": "code",
   "execution_count": 47,
   "metadata": {},
   "outputs": [],
   "source": [
    "def classify(arffdata, node, row):\n",
    "    if isinstance(node, Leaf):\n",
    "        return get_majority(node.data, arffdata)\n",
    "\n",
    "    for i in range(0, len(node.questions)):\n",
    "        if node.questions[i].match(row):\n",
    "            return classify(arffdata, node.children[i], row)\n",
    "        else:\n",
    "            continue"
   ]
  },
  {
   "cell_type": "code",
   "execution_count": 57,
   "metadata": {},
   "outputs": [],
   "source": [
    "def get_classification_accuracy(test_arffdata, node):\n",
    "    cnt = 0\n",
    "    for i in test_arffdata.data:\n",
    "        if classify(test_arffdata, node, i) == i[-1]:\n",
    "            cnt += 1\n",
    "    print(cnt, len(test_arffdata.data))\n",
    "    return cnt/len(test_arffdata.data)"
   ]
  },
  {
   "cell_type": "code",
   "execution_count": 71,
   "metadata": {},
   "outputs": [
    {
     "name": "stdout",
     "output_type": "stream",
     "text": [
      "A14 <= 2.0\n",
      "|   A8 <= 1.25\n",
      "|   |   A4 == u\n",
      "|   |   |   A3 <= 5.4575\n",
      "|   |   |   |   A3 <= 0.52 (-)\n",
      "|   |   |   |   A3 > 0.52\n",
      "|   |   |   |   |   A2 <= 55.21\n",
      "|   |   |   |   |   |   A3 <= 3.5625 (-)\n",
      "|   |   |   |   |   |   A3 > 3.5625 (-)\n",
      "|   |   |   |   |   A2 > 55.21 (+)\n",
      "|   |   |   A3 > 5.4575 (-)\n",
      "|   |   A4 == y\n",
      "|   |   |   A15 <= 1122.5\n",
      "|   |   |   |   A3 <= 0.0 (-)\n",
      "|   |   |   |   A3 > 0.0 (-)\n",
      "|   |   |   A15 > 1122.5 (+)\n",
      "|   |   A4 == l (+)\n",
      "|   |   A4 == t (+)\n",
      "|   A8 > 1.25\n",
      "|   |   A2 <= 50.0\n",
      "|   |   |   A2 <= 39.75\n",
      "|   |   |   |   A2 <= 21.33 (+)\n",
      "|   |   |   |   A2 > 21.33\n",
      "|   |   |   |   |   A8 <= 4.5 (-)\n",
      "|   |   |   |   |   A8 > 4.5 (+)\n",
      "|   |   |   A2 > 39.75 (+)\n",
      "|   |   A2 > 50.0 (-)\n",
      "A14 > 2.0\n",
      "|   A3 <= 0.8125 (-)\n",
      "|   A3 > 0.8125\n",
      "|   |   A8 <= 0.02 (-)\n",
      "|   |   A8 > 0.02 (+)\n",
      "100 132\n"
     ]
    },
    {
     "data": {
      "text/plain": [
       "0.7575757575757576"
      ]
     },
     "execution_count": 71,
     "metadata": {},
     "output_type": "execute_result"
    }
   ],
   "source": [
    "credit_train = arff_data(\"credit_train.arff\")\n",
    "credit_test = arff_data(\"credit_test.arff\")\n",
    "credit_tree = build_tree(credit_train.data, credit_train, 30)\n",
    "print_tree(credit_train, credit_tree)\n",
    "get_classification_accuracy(credit_test, credit_tree)"
   ]
  },
  {
   "cell_type": "code",
   "execution_count": 69,
   "metadata": {},
   "outputs": [
    {
     "name": "stdout",
     "output_type": "stream",
     "text": [
      "plas <= 127.0\n",
      "|   age <= 28.0\n",
      "|   |   mass <= 31.4\n",
      "|   |   |   preg <= 6.0\n",
      "|   |   |   |   pedi <= 0.672 (negative)\n",
      "|   |   |   |   pedi > 0.672 (negative)\n",
      "|   |   |   preg > 6.0 (positive)\n",
      "|   |   mass > 31.4\n",
      "|   |   |   pres <= 37.0 (positive)\n",
      "|   |   |   pres > 37.0\n",
      "|   |   |   |   pedi <= 0.5095000000000001\n",
      "|   |   |   |   |   mass <= 45.4\n",
      "|   |   |   |   |   |   insu <= 38.0 (negative)\n",
      "|   |   |   |   |   |   insu > 38.0 (negative)\n",
      "|   |   |   |   |   mass > 45.4 (positive)\n",
      "|   |   |   |   pedi > 0.5095000000000001\n",
      "|   |   |   |   |   pres <= 64.0 (negative)\n",
      "|   |   |   |   |   pres > 64.0 (negative)\n",
      "|   age > 28.0\n",
      "|   |   mass <= 26.2\n",
      "|   |   |   mass <= 9.65 (positive)\n",
      "|   |   |   mass > 9.65 (negative)\n",
      "|   |   mass > 26.2\n",
      "|   |   |   pedi <= 0.625\n",
      "|   |   |   |   plas <= 92.0 (negative)\n",
      "|   |   |   |   plas > 92.0\n",
      "|   |   |   |   |   skin <= 27.0\n",
      "|   |   |   |   |   |   pres <= 82.0\n",
      "|   |   |   |   |   |   |   pedi <= 0.46799999999999997\n",
      "|   |   |   |   |   |   |   |   age <= 56.0\n",
      "|   |   |   |   |   |   |   |   |   mass <= 27.950000000000003 (positive)\n",
      "|   |   |   |   |   |   |   |   |   mass > 27.950000000000003 (positive)\n",
      "|   |   |   |   |   |   |   |   age > 56.0 (negative)\n",
      "|   |   |   |   |   |   |   pedi > 0.46799999999999997 (negative)\n",
      "|   |   |   |   |   |   pres > 82.0 (negative)\n",
      "|   |   |   |   |   skin > 27.0\n",
      "|   |   |   |   |   |   plas <= 103.0 (negative)\n",
      "|   |   |   |   |   |   plas > 103.0 (negative)\n",
      "|   |   |   pedi > 0.625\n",
      "|   |   |   |   preg <= 8.0\n",
      "|   |   |   |   |   pedi <= 0.6984999999999999 (positive)\n",
      "|   |   |   |   |   pedi > 0.6984999999999999 (negative)\n",
      "|   |   |   |   preg > 8.0 (positive)\n",
      "plas > 127.0\n",
      "|   mass <= 29.9\n",
      "|   |   plas <= 145.0\n",
      "|   |   |   preg <= 1.0 (negative)\n",
      "|   |   |   preg > 1.0 (negative)\n",
      "|   |   plas > 145.0 (positive)\n",
      "|   mass > 29.9\n",
      "|   |   plas <= 157.5\n",
      "|   |   |   pedi <= 0.4005\n",
      "|   |   |   |   mass <= 45.55\n",
      "|   |   |   |   |   pres <= 68.0 (positive)\n",
      "|   |   |   |   |   pres > 68.0 (negative)\n",
      "|   |   |   |   mass > 45.55 (positive)\n",
      "|   |   |   pedi > 0.4005\n",
      "|   |   |   |   age <= 29.0 (negative)\n",
      "|   |   |   |   age > 29.0\n",
      "|   |   |   |   |   plas <= 152.5 (positive)\n",
      "|   |   |   |   |   plas > 152.5 (positive)\n",
      "|   |   plas > 157.5\n",
      "|   |   |   insu <= 629.5\n",
      "|   |   |   |   age <= 44.5\n",
      "|   |   |   |   |   pedi <= 0.3065 (positive)\n",
      "|   |   |   |   |   pedi > 0.3065 (positive)\n",
      "|   |   |   |   age > 44.5 (positive)\n",
      "|   |   |   insu > 629.5 (negative)\n",
      "71 100\n"
     ]
    },
    {
     "data": {
      "text/plain": [
       "0.71"
      ]
     },
     "execution_count": 69,
     "metadata": {},
     "output_type": "execute_result"
    }
   ],
   "source": [
    "diabetes_train = arff_data(\"diabetes_train.arff\")\n",
    "diabetes_test = arff_data(\"diabetes_test.arff\")\n",
    "diabetes_tree = build_tree(diabetes_train.data, diabetes_train, 30)\n",
    "print_tree(diabetes_train, diabetes_tree)\n",
    "get_classification_accuracy(diabetes_test, diabetes_tree)"
   ]
  },
  {
   "cell_type": "code",
   "execution_count": 70,
   "metadata": {},
   "outputs": [
    {
     "name": "stdout",
     "output_type": "stream",
     "text": [
      "changes_in_node == no (metastases)\n",
      "changes_in_node == lacunar\n",
      "|   no_of_nodes_in == 1 (metastases)\n",
      "|   no_of_nodes_in == 2 (metastases)\n",
      "|   no_of_nodes_in == 3 (malign_lymph)\n",
      "|   no_of_nodes_in == 4 (malign_lymph)\n",
      "|   no_of_nodes_in == 5 (malign_lymph)\n",
      "|   no_of_nodes_in == 6 (malign_lymph)\n",
      "|   no_of_nodes_in == 7 (malign_lymph)\n",
      "|   no_of_nodes_in == 8 (malign_lymph)\n",
      "changes_in_node == lac_margin\n",
      "|   special_forms == no (metastases)\n",
      "|   special_forms == chalices (metastases)\n",
      "|   special_forms == vesicles (metastases)\n",
      "changes_in_node == lac_central (malign_lymph)\n",
      "33 42\n"
     ]
    },
    {
     "data": {
      "text/plain": [
       "0.7857142857142857"
      ]
     },
     "execution_count": 70,
     "metadata": {},
     "output_type": "execute_result"
    }
   ],
   "source": [
    "lymph_train = arff_data(\"lymph_train.arff\")\n",
    "lymph_test = arff_data(\"lymph_test.arff\")\n",
    "lymph_tree = build_tree(lymph_train.data, lymph_train, 30)\n",
    "print_tree(lymph_train, lymph_tree)\n",
    "get_classification_accuracy(lymph_test, lymph_tree)"
   ]
  },
  {
   "cell_type": "code",
   "execution_count": null,
   "metadata": {},
   "outputs": [],
   "source": []
  }
 ],
 "metadata": {
  "kernelspec": {
   "display_name": "Python 3",
   "language": "python",
   "name": "python3"
  },
  "language_info": {
   "codemirror_mode": {
    "name": "ipython",
    "version": 3
   },
   "file_extension": ".py",
   "mimetype": "text/x-python",
   "name": "python",
   "nbconvert_exporter": "python",
   "pygments_lexer": "ipython3",
   "version": "3.6.2"
  }
 },
 "nbformat": 4,
 "nbformat_minor": 2
}
